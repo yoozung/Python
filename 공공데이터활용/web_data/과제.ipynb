{
 "cells": [
  {
   "cell_type": "code",
   "execution_count": 1,
   "id": "576cbb86",
   "metadata": {},
   "outputs": [],
   "source": [
    "import requests\n",
    "import pandas as pd\n",
    "from bs4 import BeautifulSoup\n"
   ]
  },
  {
   "cell_type": "markdown",
   "id": "324ae47c",
   "metadata": {},
   "source": [
    "<h3>1. 영화 랭킹 </h3>"
   ]
  },
  {
   "cell_type": "code",
   "execution_count": 3,
   "id": "9f89621c",
   "metadata": {},
   "outputs": [],
   "source": [
    "url = 'https://movie.daum.net/ranking/boxoffice/weekly'\n",
    "html = requests.get(url).text  #웹페이지코드 불러옴\n",
    "root = BeautifulSoup(html, 'html.parser')  #가져온 html문서를 분석한 돔객체 생성\n"
   ]
  },
  {
   "cell_type": "code",
   "execution_count": 23,
   "id": "10cbc0e3",
   "metadata": {},
   "outputs": [
    {
     "name": "stdout",
     "output_type": "stream",
     "text": [
      "제목:  샹치와 텐 링즈의 전설\n",
      "순위:  1\n",
      "관객수:  1,226,500명\n",
      "개봉일:  21.09.01\n",
      "============================\n",
      "제목:  모가디슈\n",
      "순위:  2\n",
      "관객수:  3,381,973명\n",
      "개봉일:  21.07.28\n",
      "============================\n",
      "제목:  인질\n",
      "순위:  3\n",
      "관객수:  1,521,484명\n",
      "개봉일:  21.08.18\n",
      "============================\n",
      "제목:  싱크홀\n",
      "순위:  4\n",
      "관객수:  2,170,641명\n",
      "개봉일:  21.08.11\n",
      "============================\n",
      "제목:  너의 이름은.\n",
      "순위:  5\n",
      "관객수:  3,772,523명\n",
      "개봉일:  21.09.09\n",
      "============================\n"
     ]
    }
   ],
   "source": [
    "#태그이름은 ol이고 클래스명은 list_movieranking\n",
    "ol = root.select('ol.list_movieranking')[0]\n",
    "#5개 담기\n",
    "li_5 = ol.select('li')[0:5]\n",
    "for li in li_5:\n",
    "    rank = li.select('span.rank_num')[0].text\n",
    "    title = li.select('a.link_txt')[0].text\n",
    "    date = li.select('span.info_txt')[0].text\n",
    "    num = li.select('span.info_txt')[1].text\n",
    "    print('제목: ', title)\n",
    "    print('순위: ', rank)    \n",
    "    print('관객수: ', num[3:])  \n",
    "    print('개봉일: ', date[2:])  \n",
    "    print('============================')        "
   ]
  },
  {
   "cell_type": "markdown",
   "id": "ad057fad",
   "metadata": {},
   "source": [
    "<h3>2. json </h3>"
   ]
  },
  {
   "cell_type": "code",
   "execution_count": 29,
   "id": "600af9eb",
   "metadata": {},
   "outputs": [
    {
     "name": "stdout",
     "output_type": "stream",
     "text": [
      "name :  (재)세종테크노파크_자율주행차량운행정보\n",
      "description :  세종시 자율 주행 빅데이터 관제 센터에서 매일 생산되는 자율주행차량에 관련된 운행 정보를 자체 사이트를 통해 제공합니다.\n",
      "url :  https://www.data.go.kr/data/15085082/fileData.do\n",
      "keywords :  ['자율주행,오픈랩,V2X']\n",
      "license :  https://data.go.kr/ugs/selectPortalPolicyView.do\n",
      "creator :  {'name': '(재)세종테크노파크', 'contactPoint': {'contactType': '미래융합산업센터 미래차산업팀', 'telephone': '+82-0448502198', '@type': 'ContactPoint'}, '@type': 'Organization'}\n",
      "distribution :  [{'encodingFormat': 'JSON', 'contentUrl': 'http://adbc.sjtp.or.kr/adbc/hpp/publicData/publicDataOpnList.do', '@type': 'DataDownload'}]\n",
      "@context :  https://schema.org\n",
      "@type :  Dataset\n"
     ]
    }
   ],
   "source": [
    "import json\n",
    "json_page = requests.get('https://www.data.go.kr/catalog/15085082/fileData.json').text\n",
    "obj = json.loads(json_page)\n",
    "for key in obj.keys():  #keys(): 딕셔너리의 키셋 반환\n",
    "    val = obj[key]\n",
    "    print(key,\": \", val)"
   ]
  },
  {
   "cell_type": "code",
   "execution_count": 30,
   "id": "60dc0f84",
   "metadata": {},
   "outputs": [
    {
     "name": "stdout",
     "output_type": "stream",
     "text": [
      "name : (재)세종테크노파크_자율주행차량운행정보\n",
      "description : 세종시 자율 주행 빅데이터 관제 센터에서 매일 생산되는 자율주행차량에 관련된 운행 정보를 자체 사이트를 통해 제공합니다.\n",
      "url : https://www.data.go.kr/data/15085082/fileData.do\n",
      "배열\n",
      "keywords:자율주행,오픈랩,V2X, \n",
      "license : https://data.go.kr/ugs/selectPortalPolicyView.do\n",
      "객체\n",
      "creator:name : (재)세종테크노파크\n",
      "contactPoint : {'contactType': '미래융합산업센터 미래차산업팀', 'telephone': '+82-0448502198', '@type': 'ContactPoint'}\n",
      "@type : Organization\n",
      "배열\n",
      "distribution:{'encodingFormat': 'JSON', 'contentUrl': 'http://adbc.sjtp.or.kr/adbc/hpp/publicData/publicDataOpnList.do', '@type': 'DataDownload'}, \n",
      "@context : https://schema.org\n",
      "@type : Dataset\n"
     ]
    }
   ],
   "source": [
    "import json\n",
    "json_page = requests.get('https://www.data.go.kr/catalog/15085082/fileData.json').text\n",
    "obj = json.loads(json_page)\n",
    "for key in obj.keys():\n",
    "    val = obj[key]\n",
    "    if isinstance(val, list):\n",
    "        print('배열')\n",
    "        print(key, end=':')\n",
    "        for v in val:\n",
    "            print(v, end=', ')\n",
    "        print()\n",
    "    \n",
    "    elif isinstance(val, dict):\n",
    "        print('객체')\n",
    "        print(key, end=':')\n",
    "        for k in val.keys():\n",
    "            print(k,':',val[k])\n",
    "    else:\n",
    "        print(key,':',val)\n",
    "    "
   ]
  },
  {
   "cell_type": "code",
   "execution_count": 32,
   "id": "7531fc4c",
   "metadata": {},
   "outputs": [
    {
     "data": {
      "text/plain": [
       "'<?xml version=\"1.0\" encoding=\"UTF-8\" standalone=\"yes\"?><ServiceResult><comMsgHeader/><msgHeader><headerCd>0</headerCd><headerMsg>정상적으로 처리되었습니다.</headerMsg><itemCount>0</itemCount></msgHeader><msgBody><itemList><busRouteId>100100124</busRouteId><busRouteNm>0017</busRouteNm><corpNm>보광교통  02-307-5600</corpNm><edStationNm>이촌동</edStationNm><firstBusTm>20210914051500</firstBusTm><firstLowTm>              </firstLowTm><lastBusTm>20210914233000</lastBusTm><lastBusYn> </lastBusYn><lastLowTm>20171115000000</lastLowTm><length>12.2</length><routeType>4</routeType><stStationNm>청암동</stStationNm><term>12</term></itemList></msgBody></ServiceResult>'"
      ]
     },
     "execution_count": 32,
     "metadata": {},
     "output_type": "execute_result"
    }
   ],
   "source": [
    "api_key='BYgs6%2FjSL0du1z8yK4GxYdW1SepukkJ0gXtUP3tGUQpjThEU4JeQKRlspdSnxTWcjia6U6r5oPxW%2F7tK7HZ2sg%3D%3D'\n",
    "url = 'http://ws.bus.go.kr/api/rest/busRouteInfo/getRouteInfo?ServiceKey='\n",
    "url += api_key\n",
    "url +='&busRouteId='\n",
    "url += '100100124'\n",
    "\n",
    "#requests.get():웹에 페이지 요청\n",
    "\n",
    "html = requests.get(url).text\n",
    "html"
   ]
  },
  {
   "cell_type": "code",
   "execution_count": null,
   "id": "93319a2c",
   "metadata": {},
   "outputs": [],
   "source": [
    "root = BeautifulSoup(html, 'lxml-xml')\n",
    "\n",
    "code = root.find('headerCd').get_text()\n",
    "if code == '0':\n",
    "    노선명 = root.find('busRouteNm').get_text()\n",
    "    기점 = root.find('edStationNm').get_text()    \n",
    "    종점 = root.find('stStationNm').get_text()    \n",
    "    첫차시간 = root.find('firstLowTm').get_text()    \n",
    "    막차시간 = root.find('lastLowTm').get_text()  \n",
    "    노선길이 = root.find('length').get_text()    \n",
    "    배차시간 = root.find('busRouteNm').get_text()    \n",
    "    운수회사 = root.find('busRouteNm').get_text()    "
   ]
  },
  {
   "cell_type": "markdown",
   "id": "5666b777",
   "metadata": {},
   "source": [
    "4번 문제"
   ]
  },
  {
   "cell_type": "code",
   "execution_count": 36,
   "id": "5088104c",
   "metadata": {},
   "outputs": [],
   "source": [
    "def get_code(name):\n",
    "    a = pd.read_html('http://kind.krx.co.kr/corpgeneral/corpList.do?method=download', index_col='회사명')[0]\n",
    "    code = a.loc[name, '종목코드']\n",
    "    code = '{:0=6d}'.format(code)  #6자리 정수로 변환\n",
    "    return code"
   ]
  },
  {
   "cell_type": "code",
   "execution_count": 37,
   "id": "87bf4963",
   "metadata": {},
   "outputs": [
    {
     "data": {
      "text/plain": [
       "'005930'"
      ]
     },
     "execution_count": 37,
     "metadata": {},
     "output_type": "execute_result"
    }
   ],
   "source": [
    "code = get_code('삼성전자')\n",
    "code"
   ]
  },
  {
   "cell_type": "markdown",
   "id": "0b708076",
   "metadata": {},
   "source": [
    "5. 버스"
   ]
  },
  {
   "cell_type": "code",
   "execution_count": 39,
   "id": "d0cca2b9",
   "metadata": {},
   "outputs": [],
   "source": [
    "def getStations(busid):\n",
    "    df = pd.read_csv('businfo.csv', encoding='euc-kr')\n",
    "    df"
   ]
  }
 ],
 "metadata": {
  "kernelspec": {
   "display_name": "Python 3 (ipykernel)",
   "language": "python",
   "name": "python3"
  },
  "language_info": {
   "codemirror_mode": {
    "name": "ipython",
    "version": 3
   },
   "file_extension": ".py",
   "mimetype": "text/x-python",
   "name": "python",
   "nbconvert_exporter": "python",
   "pygments_lexer": "ipython3",
   "version": "3.9.5"
  }
 },
 "nbformat": 4,
 "nbformat_minor": 5
}
