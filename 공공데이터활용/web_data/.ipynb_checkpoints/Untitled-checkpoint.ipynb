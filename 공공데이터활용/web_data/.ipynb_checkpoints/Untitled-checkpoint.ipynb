{
 "cells": [
  {
   "cell_type": "code",
   "execution_count": 2,
   "metadata": {},
   "outputs": [],
   "source": [
    "import pandas as pd\n",
    "import requests\n",
    "from bs4 import BeautifulSoup"
   ]
  },
  {
   "cell_type": "code",
   "execution_count": 5,
   "metadata": {
    "scrolled": false
   },
   "outputs": [],
   "source": [
    "html = requests.get('https://movie.daum.net/ranking/boxoffice/weekly').text\n",
    "root = BeautifulSoup(html, 'html.parser')#DOM 객체 생성"
   ]
  },
  {
   "cell_type": "code",
   "execution_count": 15,
   "metadata": {},
   "outputs": [
    {
     "name": "stdout",
     "output_type": "stream",
     "text": [
      "제목: 샹치와 텐 링즈의 전설\n",
      "순위: 1\n",
      "관객수: 1,226,500명\n",
      "개봉일: 21.09.01\n",
      "====================\n",
      "제목: 모가디슈\n",
      "순위: 2\n",
      "관객수: 3,381,973명\n",
      "개봉일: 21.07.28\n",
      "====================\n",
      "제목: 인질\n",
      "순위: 3\n",
      "관객수: 1,521,484명\n",
      "개봉일: 21.08.18\n",
      "====================\n",
      "제목: 싱크홀\n",
      "순위: 4\n",
      "관객수: 2,170,641명\n",
      "개봉일: 21.08.11\n",
      "====================\n",
      "제목: 너의 이름은.\n",
      "순위: 5\n",
      "관객수: 3,772,523명\n",
      "개봉일: 21.09.09\n",
      "====================\n"
     ]
    }
   ],
   "source": [
    "ol = root.select('ol.list_movieranking')[0]\n",
    "li_5 = ol.select('li')[0:5]\n",
    "for li in li_5:\n",
    "    rank = li.select('span.rank_num')[0].text\n",
    "    title = li.select('a.link_txt')[0].text\n",
    "    date = li.select('span.info_txt')[0].text\n",
    "    num = li.select('span.info_txt')[1].text\n",
    "    print('제목:', title)\n",
    "    print('순위:', rank)\n",
    "    print('관객수:', num[3:])\n",
    "    print('개봉일:', date[2:])\n",
    "    print('====================')"
   ]
  },
  {
   "cell_type": "code",
   "execution_count": 30,
   "metadata": {},
   "outputs": [
    {
     "name": "stdout",
     "output_type": "stream",
     "text": [
      "name : (재)세종테크노파크_자율주행차량운행정보\n",
      "description : 세종시 자율 주행 빅데이터 관제 센터에서 매일 생산되는 자율주행차량에 관련된 운행 정보를 자체 사이트를 통해 제공합니다.\n",
      "url : https://www.data.go.kr/data/15085082/fileData.do\n",
      "keywords : ['자율주행,오픈랩,V2X']\n",
      "license : https://data.go.kr/ugs/selectPortalPolicyView.do\n",
      "creator : {'name': '(재)세종테크노파크', 'contactPoint': {'contactType': '미래융합산업센터 미래차산업팀', 'telephone': '+82-0448502198', '@type': 'ContactPoint'}, '@type': 'Organization'}\n",
      "distribution : [{'encodingFormat': 'JSON', 'contentUrl': 'http://adbc.sjtp.or.kr/adbc/hpp/publicData/publicDataOpnList.do', '@type': 'DataDownload'}]\n",
      "@context : https://schema.org\n",
      "@type : Dataset\n"
     ]
    }
   ],
   "source": [
    "import json\n",
    "json_page = requests.get('https://www.data.go.kr/catalog/15085082/fileData.json').text\n",
    "obj = json.loads(json_page)\n",
    "for key in obj.keys():  #keys():딕셔너리의 키셋 반환\n",
    "    val = obj[key]\n",
    "    print(key,':',val)\n",
    "    "
   ]
  },
  {
   "cell_type": "code",
   "execution_count": 32,
   "metadata": {},
   "outputs": [
    {
     "name": "stdout",
     "output_type": "stream",
     "text": [
      "name : (재)세종테크노파크_자율주행차량운행정보\n",
      "description : 세종시 자율 주행 빅데이터 관제 센터에서 매일 생산되는 자율주행차량에 관련된 운행 정보를 자체 사이트를 통해 제공합니다.\n",
      "url : https://www.data.go.kr/data/15085082/fileData.do\n",
      "배열\n",
      "keywords:자율주행,오픈랩,V2X, \n",
      "license : https://data.go.kr/ugs/selectPortalPolicyView.do\n",
      "객체\n",
      "creator:name : (재)세종테크노파크\n",
      "contactPoint : {'contactType': '미래융합산업센터 미래차산업팀', 'telephone': '+82-0448502198', '@type': 'ContactPoint'}\n",
      "@type : Organization\n",
      "배열\n",
      "distribution:{'encodingFormat': 'JSON', 'contentUrl': 'http://adbc.sjtp.or.kr/adbc/hpp/publicData/publicDataOpnList.do', '@type': 'DataDownload'}, \n",
      "@context : https://schema.org\n",
      "@type : Dataset\n"
     ]
    }
   ],
   "source": [
    "import json\n",
    "json_page = requests.get('https://www.data.go.kr/catalog/15085082/fileData.json').text\n",
    "obj = json.loads(json_page)\n",
    "for key in obj.keys():\n",
    "    val = obj[key]\n",
    "    if isinstance(val, list):\n",
    "        print('배열')\n",
    "        print(key, end=':')\n",
    "        for v in val:\n",
    "            print(v, end=', ')\n",
    "        print()\n",
    "    \n",
    "    elif isinstance(val, dict):\n",
    "        print('객체')\n",
    "        print(key, end=':')\n",
    "        for k in val.keys():\n",
    "            print(k,':',val[k])\n",
    "    else:\n",
    "        print(key,':',val)\n",
    "    "
   ]
  },
  {
   "cell_type": "code",
   "execution_count": null,
   "metadata": {},
   "outputs": [],
   "source": []
  }
 ],
 "metadata": {
  "kernelspec": {
   "display_name": "Python 3 (ipykernel)",
   "language": "python",
   "name": "python3"
  },
  "language_info": {
   "codemirror_mode": {
    "name": "ipython",
    "version": 3
   },
   "file_extension": ".py",
   "mimetype": "text/x-python",
   "name": "python",
   "nbconvert_exporter": "python",
   "pygments_lexer": "ipython3",
   "version": "3.9.5"
  }
 },
 "nbformat": 4,
 "nbformat_minor": 4
}
