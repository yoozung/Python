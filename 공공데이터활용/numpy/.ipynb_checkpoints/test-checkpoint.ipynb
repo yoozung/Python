{
 "cells": [
  {
   "cell_type": "markdown",
   "id": "79a1f815",
   "metadata": {},
   "source": [
    "# 나만의 노트"
   ]
  },
  {
   "cell_type": "markdown",
   "id": "7716693f",
   "metadata": {},
   "source": [
    "설명입니다  \n",
    "하하\n",
    "스페이스 두 번 누르면   \n",
    "  엔터로 전환됨\n",
    "\n"
   ]
  },
  {
   "cell_type": "code",
   "execution_count": 1,
   "id": "676ef7f5",
   "metadata": {},
   "outputs": [
    {
     "data": {
      "text/plain": [
       "[1, 2, 3, 4, 5]"
      ]
     },
     "execution_count": 1,
     "metadata": {},
     "output_type": "execute_result"
    }
   ],
   "source": [
    "l=[1,2,3,4,5]\n",
    "l"
   ]
  }
 ],
 "metadata": {
  "kernelspec": {
   "display_name": "Python 3 (ipykernel)",
   "language": "python",
   "name": "python3"
  },
  "language_info": {
   "codemirror_mode": {
    "name": "ipython",
    "version": 3
   },
   "file_extension": ".py",
   "mimetype": "text/x-python",
   "name": "python",
   "nbconvert_exporter": "python",
   "pygments_lexer": "ipython3",
   "version": "3.9.5"
  }
 },
 "nbformat": 4,
 "nbformat_minor": 5
}
