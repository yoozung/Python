{
 "cells": [
  {
   "cell_type": "code",
   "execution_count": 6,
   "id": "8ad6cc8d",
   "metadata": {},
   "outputs": [],
   "source": [
    "import pandas as pd\n",
    "\n",
    "def makeDF(fname):\n",
    "    f = open(fname, 'r')\n",
    "\n",
    "    #컬럼줄 컬럼명들 분리하여 저장\n",
    "    cols = f.readline().split(',')\n",
    "\n",
    "    print('cols: ', cols)\n",
    "\n",
    "    #2번째 줄부터 전체 내용을 줄별로, ','를 기준으로 분리\n",
    "    data = []\n",
    "    while True:\n",
    "        txt = f.readline()\n",
    "        if txt == '':\n",
    "            break\n",
    "        data.append(txt.split(','))\n",
    "    f.close()\n",
    "\n",
    "    df = pd.DataFrame(data, columns=cols)\n",
    "    return df"
   ]
  },
  {
   "cell_type": "code",
   "execution_count": 9,
   "id": "263ef9bb",
   "metadata": {},
   "outputs": [],
   "source": [
    "def search(name):\n",
    "    df = makeDF('jeju.csv')\n",
    "    row = df[df['업소명'] == name]\n",
    "    print(row)"
   ]
  },
  {
   "cell_type": "code",
   "execution_count": 14,
   "id": "c59d0583",
   "metadata": {},
   "outputs": [
    {
     "name": "stdout",
     "output_type": "stream",
     "text": [
      "cols:  ['구분', '업소명', '소재지', '위도', '경도', '데이터기준일자\\n']\n",
      "     구분     업소명                   소재지           위도           경도     데이터기준일자\\n\n",
      "4  동물병원  조은동물병원  제주특별자치도 서귀포시 동문로 40   33.25027843  126.5648974  2021-08-31\\n\n"
     ]
    }
   ],
   "source": [
    "search('조은동물병원')"
   ]
  }
 ],
 "metadata": {
  "kernelspec": {
   "display_name": "Python 3 (ipykernel)",
   "language": "python",
   "name": "python3"
  },
  "language_info": {
   "codemirror_mode": {
    "name": "ipython",
    "version": 3
   },
   "file_extension": ".py",
   "mimetype": "text/x-python",
   "name": "python",
   "nbconvert_exporter": "python",
   "pygments_lexer": "ipython3",
   "version": "3.9.5"
  }
 },
 "nbformat": 4,
 "nbformat_minor": 5
}
